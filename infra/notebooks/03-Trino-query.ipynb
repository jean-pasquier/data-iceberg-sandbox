{
 "cells": [
  {
   "cell_type": "code",
   "execution_count": null,
   "metadata": {},
   "outputs": [],
   "source": [
    "!pip install -q trino"
   ]
  },
  {
   "cell_type": "code",
   "execution_count": null,
   "metadata": {},
   "outputs": [],
   "source": [
    "from trino.dbapi import connect\n",
    "from trino.auth import OAuth2Authentication\n",
    "from redirect_handler import REDIRECT_HANDLER\n",
    "import urllib3\n",
    "import pandas as pd\n",
    "\n",
    "urllib3.disable_warnings(urllib3.exceptions.InsecureRequestWarning)\n",
    "\n",
    "TRINO_URI = \"https://trino-proxy:443\""
   ]
  },
  {
   "cell_type": "markdown",
   "metadata": {},
   "source": [
    "# Use the Catalog\n",
    "\n",
    "Lets setup Anna connection.\n",
    "\n",
    "1. Open a new private browser window, open `http://localhost:8181` (Lakekeeper UI) and login using Username `anna` and Password `iceberg`. \n",
    "\n",
    "2. Execute the following cell - copy the shown login link into the private browser you used before and re-login as `anna` if asked. The cell execution should fail, as Anna has no permissions yet.\n",
    "\n",
    "3. In your regular browser, navigate to the Warehouse \"demo\" and grant anna the \"select\" permission. Now re-run the cell below. Copy the login link to your private browser tab again."
   ]
  },
  {
   "cell_type": "code",
   "execution_count": null,
   "metadata": {},
   "outputs": [],
   "source": []
  },
  {
   "cell_type": "code",
   "execution_count": null,
   "metadata": {},
   "outputs": [],
   "source": [
    "conn = connect(\n",
    "    host=TRINO_URI,\n",
    "    auth=OAuth2Authentication(REDIRECT_HANDLER),\n",
    "    http_scheme=\"https\",\n",
    "    verify=False,\n",
    "    catalog=\"lakekeeper\"\n",
    ")"
   ]
  },
  {
   "cell_type": "code",
   "execution_count": null,
   "metadata": {},
   "outputs": [],
   "source": [
    "cur = conn.cursor()"
   ]
  },
  {
   "cell_type": "code",
   "execution_count": null,
   "metadata": {},
   "outputs": [],
   "source": [
    "# Must return Anna keycloak user id\n",
    "cur.execute(\"SELECT current_user\").fetchall()"
   ]
  },
  {
   "cell_type": "code",
   "execution_count": null,
   "metadata": {},
   "outputs": [],
   "source": [
    "cur.execute(\"SHOW CATALOGS\").fetchall()"
   ]
  },
  {
   "cell_type": "code",
   "execution_count": null,
   "metadata": {},
   "outputs": [],
   "source": [
    "cur.execute(\"SHOW TABLES IN customer\").fetchall()"
   ]
  },
  {
   "cell_type": "code",
   "execution_count": null,
   "metadata": {},
   "outputs": [],
   "source": [
    "# Execute query and fetch all rows\n",
    "cur.execute(\"SELECT * FROM customer.raw_client\")\n",
    "\n",
    "# Data\n",
    "rows = cur.fetchall()\n",
    "\n",
    "# Column names\n",
    "columns = [desc[0] for desc in cur.description]\n",
    "\n",
    "df = pd.DataFrame(rows, columns=columns)"
   ]
  },
  {
   "cell_type": "code",
   "execution_count": null,
   "metadata": {},
   "outputs": [],
   "source": [
    "df.head()"
   ]
  },
  {
   "cell_type": "markdown",
   "metadata": {},
   "source": [
    "### Try creating/modifying some objects in customer namespace\n",
    "\n",
    "Anna can only `select` permission on `customer` namespace."
   ]
  },
  {
   "cell_type": "code",
   "execution_count": null,
   "metadata": {},
   "outputs": [],
   "source": [
    "# Must throw USER ERROR / PERMISSION_DENIED\n",
    "cur.execute(\"CREATE TABLE IF NOT EXISTS customer.product (product_id INT, description VARCHAR)\")"
   ]
  },
  {
   "cell_type": "code",
   "execution_count": null,
   "metadata": {},
   "outputs": [],
   "source": [
    "# Must throw USER ERROR / PERMISSION_DENIED\n",
    "cur.execute(\"ALTER TABLE customer.product DROP COLUMN updated_at\")"
   ]
  },
  {
   "cell_type": "code",
   "execution_count": null,
   "metadata": {
    "editable": true,
    "slideshow": {
     "slide_type": ""
    },
    "tags": []
   },
   "outputs": [],
   "source": [
    "# Must throw USER ERROR / PERMISSION_DENIED\n",
    "cur.execute(\"\"\"INSERT INTO customer.product \n",
    "(id, name, age, category, birth, created_at, updated_at) VALUES \n",
    "(1000000, 'Jack', 24, 'adult', 2001, NOW(), NOW())\n",
    "\"\"\")"
   ]
  },
  {
   "cell_type": "markdown",
   "metadata": {},
   "source": [
    "### Now let Anna create/modify product namespace\n",
    "\n",
    "\"Ask cdo to add create/modify on a new 'product' namespace\" -> either go to Management notebook or connect to lakekeeper UI as cdo and create product namespace + assign permissions to Anna"
   ]
  },
  {
   "cell_type": "code",
   "execution_count": null,
   "metadata": {},
   "outputs": [],
   "source": [
    "cur.execute(\"SELECT current_user\").fetchall()"
   ]
  },
  {
   "cell_type": "code",
   "execution_count": null,
   "metadata": {},
   "outputs": [],
   "source": [
    "cur.execute(\"GRANT ALL PRIVILEGES ON TABLE product.enriched_product TO USER \\\"cfb55bf6-fcbb-4a1e-bfec-30c6649b52f8\\\"\")"
   ]
  },
  {
   "cell_type": "code",
   "execution_count": null,
   "metadata": {},
   "outputs": [],
   "source": [
    "# Should succeed\n",
    "cur.execute(\"CREATE TABLE IF NOT EXISTS product.raw_product (id INT, description VARCHAR, price DOUBLE)\")"
   ]
  },
  {
   "cell_type": "code",
   "execution_count": null,
   "metadata": {},
   "outputs": [],
   "source": [
    "cur.execute(\"\"\"INSERT INTO product.raw_product \n",
    "(0, 'Product 1', 8.95),\n",
    "(1, 'Product 2', 17.95),\n",
    "(2, 'Product 3', 10)\n",
    "\"\"\")"
   ]
  },
  {
   "cell_type": "code",
   "execution_count": null,
   "metadata": {},
   "outputs": [],
   "source": [
    "# Make sure data has been written\n",
    "cur.execute(\"SELECT * FROM product.raw_product\").fetchall()"
   ]
  },
  {
   "cell_type": "markdown",
   "metadata": {},
   "source": [
    "#### Create another table that Peter cannot access"
   ]
  },
  {
   "cell_type": "code",
   "execution_count": null,
   "metadata": {},
   "outputs": [],
   "source": [
    "# Should succeed\n",
    "cur.execute(\"CREATE TABLE IF NOT EXISTS product.enriched_product (id INT, description VARCHAR, price DOUBLE, cost DOUBLE)\")"
   ]
  },
  {
   "cell_type": "code",
   "execution_count": null,
   "metadata": {},
   "outputs": [],
   "source": [
    "cur.execute(\"\"\"INSERT INTO product.enriched_product \n",
    "(0, 'Product 1', 8.95, 4.12),\n",
    "(1, 'Product 2', 17.95, 9.28),\n",
    "(2, 'Product 3', 10, 3.02)\n",
    "\"\"\")"
   ]
  },
  {
   "cell_type": "code",
   "execution_count": null,
   "metadata": {},
   "outputs": [],
   "source": [
    "# Make sure data has been written\n",
    "cur.execute(\"SELECT * FROM product.enriched_product\").fetchall()"
   ]
  }
 ],
 "metadata": {
  "kernelspec": {
   "display_name": "Python 3 (ipykernel)",
   "language": "python",
   "name": "python3"
  },
  "language_info": {
   "codemirror_mode": {
    "name": "ipython",
    "version": 3
   },
   "file_extension": ".py",
   "mimetype": "text/x-python",
   "name": "python",
   "nbconvert_exporter": "python",
   "pygments_lexer": "ipython3",
   "version": "3.11.10"
  }
 },
 "nbformat": 4,
 "nbformat_minor": 4
}
