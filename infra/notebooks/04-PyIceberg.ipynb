{
 "cells": [
  {
   "cell_type": "code",
   "execution_count": null,
   "id": "700adddd-3ba0-4c0b-8f00-016b450a79d3",
   "metadata": {},
   "outputs": [],
   "source": [
    "!pip install -q pyiceberg"
   ]
  },
  {
   "cell_type": "code",
   "execution_count": null,
   "id": "a6d0a63a-a898-41ce-a68f-932fd4d5383f",
   "metadata": {},
   "outputs": [],
   "source": [
    "from pyiceberg.catalog.rest import RestCatalog\n",
    "import logging\n",
    "\n",
    "import pandas as pd\n",
    "import pyarrow.parquet as pq\n",
    "import pyarrow as pa\n",
    "from device_code_auth import authenticate_device_flow_with_pkce\n",
    "\n",
    "CATALOG_URL = \"http://lakekeeper:8181/catalog\"\n",
    "WAREHOUSE = \"test-warehouse\""
   ]
  },
  {
   "cell_type": "code",
   "execution_count": null,
   "id": "67be2b7a-5a9e-44de-b9a3-779da4489d81",
   "metadata": {},
   "outputs": [],
   "source": [
    "# Login as user \"Peter\" to try reading 'product' namespace\n",
    "auth_response = authenticate_device_flow_with_pkce(\n",
    "    token_endpoint=\"http://keycloak:8080/realms/iceberg/protocol/openid-connect/token\",\n",
    "    device_endpoint=\"http://keycloak:8080/realms/iceberg/protocol/openid-connect/auth/device\",\n",
    "    client_id=\"lakekeeper\",\n",
    "    scope=\"lakekeeper\",\n",
    ")"
   ]
  },
  {
   "cell_type": "code",
   "execution_count": null,
   "id": "84ec5c34-8874-4e27-8fb9-0506d6839cf7",
   "metadata": {},
   "outputs": [],
   "source": [
    "access_token = auth_response[\"access_token\"]"
   ]
  },
  {
   "cell_type": "code",
   "execution_count": null,
   "id": "ff8c5825-d45a-49fa-8d3a-4b1271ec7469",
   "metadata": {},
   "outputs": [],
   "source": [
    "catalog = RestCatalog(\n",
    "    name=\"lakekeeper\",\n",
    "    warehouse=WAREHOUSE,\n",
    "    uri=\"http://lakekeeper:8181/catalog/\",\n",
    "    token=access_token,\n",
    ")"
   ]
  },
  {
   "cell_type": "code",
   "execution_count": null,
   "id": "d9f16c48-bddb-498d-993c-87c2b668cd4b",
   "metadata": {},
   "outputs": [],
   "source": [
    "# List namespaces Peter can access\n",
    "catalog.list_namespaces()"
   ]
  },
  {
   "cell_type": "code",
   "execution_count": null,
   "id": "35702b36-ba92-4f4a-ba2d-e0baab611219",
   "metadata": {},
   "outputs": [],
   "source": [
    "# List tables Peter can access -> only 1 table granted\n",
    "list(\".\".join(t) for t in catalog.list_tables(namespace=(\"product\",)))"
   ]
  },
  {
   "cell_type": "code",
   "execution_count": null,
   "id": "cd38e025-c6e2-4274-a06c-2aaf7847c5c4",
   "metadata": {
    "editable": true,
    "slideshow": {
     "slide_type": ""
    },
    "tags": []
   },
   "outputs": [],
   "source": [
    "# Read table that Peter has access to\n",
    "table = catalog.load_table(\"product.raw_product\")\n",
    "data = table.scan()"
   ]
  },
  {
   "cell_type": "code",
   "execution_count": null,
   "id": "7206fc05-84d7-4e3a-a2e3-60ee6f0e96b2",
   "metadata": {},
   "outputs": [],
   "source": [
    "df = data.to_pandas()\n",
    "df.head()"
   ]
  },
  {
   "cell_type": "code",
   "execution_count": null,
   "id": "e6d52760-cfef-406d-b926-15d334510fbf",
   "metadata": {},
   "outputs": [],
   "source": []
  },
  {
   "cell_type": "code",
   "execution_count": null,
   "id": "51574a1d-7bd9-4dc9-8fc5-eb070ebc7c83",
   "metadata": {
    "editable": true,
    "slideshow": {
     "slide_type": ""
    },
    "tags": []
   },
   "outputs": [],
   "source": [
    "# Try insert some data to the table\n",
    "# Making sure schema matches -> id is INT (int32) and not LONG (int64)\n",
    "# Must throw PERMISSION_DENIED\n",
    "table.append(pa.Table.from_pandas(\n",
    "    pd.DataFrame({\"id\": [3], \"description\": [\"I can't\"], \"price\": [0.0]}).astype({\"id\": \"int32\"})\n",
    "))"
   ]
  },
  {
   "cell_type": "code",
   "execution_count": null,
   "id": "5f22c6ad-bfa5-43e0-9cc9-250a0354cff3",
   "metadata": {},
   "outputs": [],
   "source": []
  },
  {
   "cell_type": "code",
   "execution_count": null,
   "id": "5cd67128-d6cc-4e67-8652-860906319281",
   "metadata": {},
   "outputs": [],
   "source": [
    "# Try read table that Peter DOES NOT have access to\n",
    "# Must throw PERMISSION_DENIED\n",
    "catalog.load_table(\"product.enriched_product\")"
   ]
  },
  {
   "cell_type": "code",
   "execution_count": null,
   "id": "62401f5c-b8a3-49da-9ad6-331a1c1aea71",
   "metadata": {},
   "outputs": [],
   "source": []
  }
 ],
 "metadata": {
  "kernelspec": {
   "display_name": "Python 3 (ipykernel)",
   "language": "python",
   "name": "python3"
  },
  "language_info": {
   "codemirror_mode": {
    "name": "ipython",
    "version": 3
   },
   "file_extension": ".py",
   "mimetype": "text/x-python",
   "name": "python",
   "nbconvert_exporter": "python",
   "pygments_lexer": "ipython3",
   "version": "3.11.10"
  }
 },
 "nbformat": 4,
 "nbformat_minor": 5
}
