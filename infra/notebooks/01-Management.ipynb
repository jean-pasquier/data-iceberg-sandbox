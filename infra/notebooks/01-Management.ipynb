{
 "cells": [
  {
   "cell_type": "code",
   "execution_count": null,
   "metadata": {
    "editable": true,
    "slideshow": {
     "slide_type": ""
    },
    "tags": []
   },
   "outputs": [],
   "source": [
    "import requests\n",
    "from IPython.display import JSON\n",
    "\n",
    "CATALOG_URL = \"http://lakekeeper:8181/catalog\"\n",
    "MANAGEMENT_URL = \"http://lakekeeper:8181/management\"\n",
    "KEYCLOAK_TOKEN_URL = \"http://keycloak:8080/realms/iceberg/protocol/openid-connect/token\""
   ]
  },
  {
   "cell_type": "markdown",
   "metadata": {},
   "source": [
    "## 1. Sign in\n",
    "Retrieve access token from Keycloak"
   ]
  },
  {
   "cell_type": "code",
   "execution_count": null,
   "metadata": {},
   "outputs": [],
   "source": [
    "# Login to Keycloak\n",
    "CLIENT_ID = \"lakekeeper-operator\"\n",
    "CLIENT_SECRET = \"bvMiebZ23atcNaE703kKWb2zTQSl1mGE\"\n",
    "\n",
    "response = requests.post(\n",
    "    url=KEYCLOAK_TOKEN_URL,\n",
    "    data={\n",
    "        \"grant_type\": \"client_credentials\",\n",
    "        \"client_id\": CLIENT_ID,\n",
    "        \"client_secret\": CLIENT_SECRET,\n",
    "        \"scope\": \"lakekeeper\"\n",
    "    },\n",
    "    headers={\"Content-type\": \"application/x-www-form-urlencoded\"},\n",
    ")\n",
    "\n",
    "access_token = response.json()['access_token']"
   ]
  },
  {
   "cell_type": "markdown",
   "metadata": {},
   "source": [
    "## 2. Check lakekeeper infos\n",
    "\n",
    "When lakekeeper was bootstrapped we added few permissions. <br/>\n",
    "Management REST API Swagger available: http://localhost:8181/swagger-ui/#/\n"
   ]
  },
  {
   "cell_type": "code",
   "execution_count": null,
   "metadata": {},
   "outputs": [],
   "source": [
    "# Server info\n",
    "\n",
    "response = requests.get(\n",
    "    url=f\"{MANAGEMENT_URL}/v1/info\",\n",
    "    headers={\"Authorization\": f\"Bearer {access_token}\"},\n",
    ")\n",
    "response.raise_for_status()\n",
    "JSON(response.json())"
   ]
  },
  {
   "cell_type": "code",
   "execution_count": null,
   "metadata": {},
   "outputs": [],
   "source": [
    "# Who am I\n",
    "\n",
    "response = requests.get(\n",
    "    url=f\"{MANAGEMENT_URL}/v1/whoami\",\n",
    "    headers={\"Authorization\": f\"Bearer {access_token}\"},\n",
    ")\n",
    "response.raise_for_status()\n",
    "JSON(response.json())"
   ]
  },
  {
   "cell_type": "code",
   "execution_count": null,
   "metadata": {},
   "outputs": [],
   "source": [
    "## List users\n",
    "## Users must be registered in Keycloak AND connect once in lakekeeper UI.\n",
    "\n",
    "response = requests.get(\n",
    "    url=f\"{MANAGEMENT_URL}/v1/user\",\n",
    "    headers={\"Authorization\": f\"Bearer {access_token}\"},\n",
    ")\n",
    "response.raise_for_status()\n",
    "JSON(response.json())"
   ]
  },
  {
   "cell_type": "code",
   "execution_count": null,
   "metadata": {},
   "outputs": [],
   "source": [
    "## List server permissions (eg admin, operator)\n",
    "## See https://docs.lakekeeper.io/docs/nightly/authorization/\n",
    "\n",
    "response = requests.get(\n",
    "    url=f\"{MANAGEMENT_URL}/v1/permissions/server/assignments\",\n",
    "    headers={\"Authorization\": f\"Bearer {access_token}\"},\n",
    ")\n",
    "JSON(response.json())"
   ]
  },
  {
   "cell_type": "code",
   "execution_count": null,
   "metadata": {},
   "outputs": [],
   "source": [
    "## List (default) project permissions (eg project_admin, data_admin, select etc.)\n",
    "\n",
    "response = requests.get(\n",
    "    url=f\"{MANAGEMENT_URL}/v1/permissions/project/assignments\",\n",
    "    headers={\"Authorization\": f\"Bearer {access_token}\"},\n",
    ")\n",
    "JSON(response.json())"
   ]
  },
  {
   "cell_type": "markdown",
   "metadata": {},
   "source": [
    "### 3. Assign additional permissions\n",
    "\n",
    "We can assign permission to a lakekeeper at different levels, propagated to object children:\n",
    "1. Server\n",
    "2. Project\n",
    "3. Namespace (and optional) subnamespace\n",
    "4. Table\n",
    "\n",
    "Eg. if a user has \"create\" permission at project level he can create any object within all namespaces of the project."
   ]
  },
  {
   "cell_type": "code",
   "execution_count": null,
   "metadata": {},
   "outputs": [],
   "source": [
    "def get_user_id(user_name: str) -> str:\n",
    "    response = requests.get(\n",
    "        url=f\"{MANAGEMENT_URL}/v1/user\",\n",
    "        headers={\"Authorization\": f\"Bearer {access_token}\"},\n",
    "    )\n",
    "    response.raise_for_status()\n",
    "    return (u[\"id\"] for u in response.json()[\"users\"] if u[\"name\"] == user_name).__next__()"
   ]
  },
  {
   "cell_type": "code",
   "execution_count": null,
   "metadata": {},
   "outputs": [],
   "source": [
    "user_id = get_user_id(\"Peter Cold\")\n",
    "user_id"
   ]
  },
  {
   "cell_type": "markdown",
   "metadata": {},
   "source": [
    "#### 1. Server role"
   ]
  },
  {
   "cell_type": "code",
   "execution_count": null,
   "metadata": {},
   "outputs": [],
   "source": [
    "permissions_add = [\"operator\"] # or admin"
   ]
  },
  {
   "cell_type": "code",
   "execution_count": null,
   "metadata": {},
   "outputs": [],
   "source": [
    "response = requests.post(\n",
    "    url=f\"{MANAGEMENT_URL}/v1/permissions/server/assignments\",\n",
    "    headers={\"Authorization\": f\"Bearer {access_token}\"},\n",
    "    json={\n",
    "        \"writes\": [\n",
    "            {\n",
    "                \"user\": user_id,\n",
    "                \"type\": p\n",
    "            }\n",
    "            for p in permissions_add\n",
    "        ]\n",
    "    }\n",
    ")\n",
    "response.text"
   ]
  },
  {
   "cell_type": "markdown",
   "metadata": {},
   "source": [
    "#### 2. Project role"
   ]
  },
  {
   "cell_type": "code",
   "execution_count": null,
   "metadata": {},
   "outputs": [],
   "source": [
    "# Permissions for project are: \n",
    "# \"project_admin\", \"security_admin\", \"data_admin\", \"manage_grants\", \"pass_grants\", etc.\n",
    "permissions_add = [\"data_admin\"]"
   ]
  },
  {
   "cell_type": "code",
   "execution_count": null,
   "metadata": {},
   "outputs": [],
   "source": [
    "user_id = get_user_id(\"chief data\")\n",
    "user_id"
   ]
  },
  {
   "cell_type": "code",
   "execution_count": null,
   "metadata": {},
   "outputs": [],
   "source": [
    "response = requests.post(\n",
    "    url=f\"{MANAGEMENT_URL}/v1/permissions/project/assignments\",\n",
    "    headers={\"Authorization\": f\"Bearer {access_token}\"},\n",
    "    json={        \n",
    "        \"writes\": [\n",
    "            {\n",
    "                \"type\": p,\n",
    "                \"user\": user_id\n",
    "            }\n",
    "            for p in permissions_add\n",
    "        ]\n",
    "    }\n",
    ")\n",
    "response.text"
   ]
  },
  {
   "cell_type": "markdown",
   "metadata": {},
   "source": [
    "#### Need to get warehouse id to manipulate project's children objects"
   ]
  },
  {
   "cell_type": "code",
   "execution_count": null,
   "metadata": {},
   "outputs": [],
   "source": [
    "response = requests.get(\n",
    "    f\"{MANAGEMENT_URL}/v1/warehouse\",\n",
    "    headers={\"Authorization\": f\"Bearer {access_token}\"},\n",
    ")\n",
    "warehouse_id = response.json()[\"warehouses\"][0][\"id\"]  # Assuming only one warehouse\n",
    "print(f\"Warehouse id: {warehouse_id}\")"
   ]
  },
  {
   "cell_type": "markdown",
   "metadata": {},
   "source": [
    "#### 3. Namespace roles\n",
    "\n",
    "Need to retrieve namespace uuid. Namespaces can be identified by array because API handle sub namespaces. For example\n",
    "\n",
    "```\n",
    "└── namespace1\n",
    "    ├── subns1\n",
    "    └── subns2\n",
    "        └── subsubns1\n",
    "```\n",
    "\n",
    "* `namespace1` is identified by name with array `[\"namespace1\"]`\n",
    "* `namespace1.subns1` is identified by name with array `[\"namespace1\", \"subns1\"]`\n",
    "* `namespace1.subns2.subsubns1` is identified by name with array `[\"namespace1\", \"subns2\", \"subsubns1\"]`\n",
    "\n",
    "----\n",
    "List namespace using `parent` query parameter:\n",
    "\n",
    "Listing root namespaces (no subnamespace) without parent: `{CATALOG_URL}/v1/{warehouse_id}/namespaces`\n",
    "<br/>Returns namespace1, namespace2\n",
    "\n",
    "Listing 1st level subnamespaces: `{CATALOG_URL}/v1/{warehouse_id}/namespaces?parent=namespace1`\n",
    "<br/> Returns subns1, subns2\n",
    "\n",
    "Listing deeper levels subnamespaces by adding `%1F` (or `\\x1f` in decoded version) seperator: `{CATALOG_URL}/v1/{warehouse_id}/namespaces?parent=namespace1%1Fsubns2`\n",
    "<br/> Returns subsubns1"
   ]
  },
  {
   "cell_type": "code",
   "execution_count": null,
   "metadata": {},
   "outputs": [],
   "source": [
    "# Example of sub namespace\n",
    "response = requests.get(\n",
    "    f\"{CATALOG_URL}/v1/{warehouse_id}/namespaces\",\n",
    "    params={\"returnUuids\": \"true\", \"parent\": \"finance\"},\n",
    "    headers={\"Authorization\": f\"Bearer {access_token}\"},\n",
    ")\n",
    "response.text"
   ]
  },
  {
   "cell_type": "code",
   "execution_count": null,
   "metadata": {},
   "outputs": [],
   "source": [
    "# Example of sub sub namespace\n",
    "response = requests.get(\n",
    "    f\"{CATALOG_URL}/v1/{warehouse_id}/namespaces\",\n",
    "    params={\"returnUuids\": \"true\", \"parent\": \"finance\\x1frevenue\"},\n",
    "    headers={\"Authorization\": f\"Bearer {access_token}\"},\n",
    ")\n",
    "response.text"
   ]
  },
  {
   "cell_type": "code",
   "execution_count": null,
   "metadata": {},
   "outputs": [],
   "source": [
    "def get_namespace_id(namespace_name) -> str:\n",
    "    response = requests.get(\n",
    "        f\"{CATALOG_URL}/v1/{warehouse_id}/namespaces\",\n",
    "        params={\"returnUuids\": \"true\"},  # root namespace -> no parent\n",
    "        headers={\"Authorization\": f\"Bearer {access_token}\"},\n",
    "    )\n",
    "    # response is: {'namespaces': [['ns1'], ['ns2'], ['ns3']], 'namespace-uuids': ['ns1 uuid', 'ns2 uuid', 'ns3 uuid']}\n",
    "    d = response.json()\n",
    "    return d[\"namespace-uuids\"][d[\"namespaces\"].index([namespace_name])]"
   ]
  },
  {
   "cell_type": "code",
   "execution_count": null,
   "metadata": {},
   "outputs": [],
   "source": [
    "namespace_id = get_namespace_id(\"customer\")  # we'll use `product` namespace as well\n",
    "namespace_id"
   ]
  },
  {
   "cell_type": "code",
   "execution_count": null,
   "metadata": {},
   "outputs": [],
   "source": [
    "# List namespace permissions\n",
    "\n",
    "response = requests.get(\n",
    "    f\"{MANAGEMENT_URL}/v1/permissions/namespace/{namespace_id}/assignments\",\n",
    "    headers={\"Authorization\": f\"Bearer {access_token}\"},\n",
    ")\n",
    "JSON(response.json())"
   ]
  },
  {
   "cell_type": "code",
   "execution_count": null,
   "metadata": {},
   "outputs": [],
   "source": [
    "user_id = get_user_id(\"Anna Cold\")\n",
    "user_id"
   ]
  },
  {
   "cell_type": "code",
   "execution_count": null,
   "metadata": {},
   "outputs": [],
   "source": [
    "permissions_add = [\"select\"]"
   ]
  },
  {
   "cell_type": "code",
   "execution_count": null,
   "metadata": {},
   "outputs": [],
   "source": [
    "response = requests.post(\n",
    "    f\"{MANAGEMENT_URL}/v1/permissions/namespace/{namespace_id}/assignments\",\n",
    "    headers={\"Authorization\": f\"Bearer {access_token}\"},\n",
    "    json={\n",
    "        \"writes\": [\n",
    "            {\n",
    "                \"user\": user_id,\n",
    "                \"type\": p\n",
    "            }\n",
    "            for p in permissions_add\n",
    "        ]\n",
    "    }\n",
    ")\n",
    "response.raise_for_status()"
   ]
  },
  {
   "cell_type": "code",
   "execution_count": null,
   "metadata": {},
   "outputs": [],
   "source": []
  },
  {
   "cell_type": "markdown",
   "metadata": {},
   "source": [
    "#### 4. Table roles"
   ]
  },
  {
   "cell_type": "code",
   "execution_count": null,
   "metadata": {},
   "outputs": [],
   "source": [
    "def get_table_id(namespace_name: str, table_name: str) -> str:\n",
    "    response = requests.get(\n",
    "        url=f\"{CATALOG_URL}/v1/{warehouse_id}/namespaces/{namespace_name}/tables/{table_name}\",\n",
    "        headers={\"Authorization\": f\"Bearer {access_token}\"},\n",
    "        params={\"pageSize\": 100}\n",
    "    )\n",
    "    print(response.status_code)\n",
    "    response.raise_for_status()\n",
    "    return response.json()[\"metadata\"][\"table-uuid\"]"
   ]
  },
  {
   "cell_type": "code",
   "execution_count": null,
   "metadata": {},
   "outputs": [],
   "source": []
  },
  {
   "cell_type": "code",
   "execution_count": null,
   "metadata": {},
   "outputs": [],
   "source": [
    "table_id = get_table_id(\"product\", \"raw_product\")\n",
    "table_id"
   ]
  },
  {
   "cell_type": "code",
   "execution_count": null,
   "metadata": {},
   "outputs": [],
   "source": [
    "# List table permissions\n",
    "\n",
    "response = requests.get(\n",
    "    f\"{MANAGEMENT_URL}/v1/permissions/warehouse/{warehouse_id}/table/{table_id}/assignments\",\n",
    "    headers={\"Authorization\": f\"Bearer {access_token}\"},\n",
    ")\n",
    "print(response.text)"
   ]
  },
  {
   "cell_type": "code",
   "execution_count": null,
   "metadata": {},
   "outputs": [],
   "source": [
    "# Add select permission only on raw_product in product namespace"
   ]
  },
  {
   "cell_type": "code",
   "execution_count": null,
   "metadata": {},
   "outputs": [],
   "source": [
    "user_id = get_user_id(\"Peter Cold\")"
   ]
  },
  {
   "cell_type": "code",
   "execution_count": null,
   "metadata": {},
   "outputs": [],
   "source": [
    "permissions_add = [\"select\"]"
   ]
  },
  {
   "cell_type": "code",
   "execution_count": null,
   "metadata": {},
   "outputs": [],
   "source": [
    "response = requests.post(\n",
    "    f\"{MANAGEMENT_URL}/v1/permissions/warehouse/{warehouse_id}/table/{table_id}/assignments\",\n",
    "    headers={\"Authorization\": f\"Bearer {access_token}\"},\n",
    "    json={\n",
    "        \"writes\": [\n",
    "            {\n",
    "                \"user\": user_id,\n",
    "                \"type\": p\n",
    "            }\n",
    "            for p in permissions_add\n",
    "        ]\n",
    "    }\n",
    ")\n",
    "print(response.text)"
   ]
  },
  {
   "cell_type": "code",
   "execution_count": null,
   "metadata": {},
   "outputs": [],
   "source": []
  }
 ],
 "metadata": {
  "kernelspec": {
   "display_name": "Python 3 (ipykernel)",
   "language": "python",
   "name": "python3"
  },
  "language_info": {
   "codemirror_mode": {
    "name": "ipython",
    "version": 3
   },
   "file_extension": ".py",
   "mimetype": "text/x-python",
   "name": "python",
   "nbconvert_exporter": "python",
   "pygments_lexer": "ipython3",
   "version": "3.11.10"
  }
 },
 "nbformat": 4,
 "nbformat_minor": 4
}
